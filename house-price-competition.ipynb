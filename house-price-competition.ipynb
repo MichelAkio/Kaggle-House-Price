{
 "cells": [
  {
   "cell_type": "code",
   "execution_count": 1,
   "metadata": {
    "_cell_guid": "b1076dfc-b9ad-4769-8c92-a6c4dae69d19",
    "_uuid": "8f2839f25d086af736a60e9eeb907d3b93b6e0e5",
    "execution": {
     "iopub.execute_input": "2020-12-16T08:48:44.921376Z",
     "iopub.status.busy": "2020-12-16T08:48:44.920629Z",
     "iopub.status.idle": "2020-12-16T08:48:45.018580Z",
     "shell.execute_reply": "2020-12-16T08:48:45.017853Z"
    },
    "papermill": {
     "duration": 0.111855,
     "end_time": "2020-12-16T08:48:45.018702",
     "exception": false,
     "start_time": "2020-12-16T08:48:44.906847",
     "status": "completed"
    },
    "tags": []
   },
   "outputs": [
    {
     "name": "stdout",
     "output_type": "stream",
     "text": [
      "/kaggle/input/house-prices-advanced-regression-techniques/sample_submission.csv\n",
      "/kaggle/input/house-prices-advanced-regression-techniques/data_description.txt\n",
      "/kaggle/input/house-prices-advanced-regression-techniques/train.csv\n",
      "/kaggle/input/house-prices-advanced-regression-techniques/test.csv\n"
     ]
    }
   ],
   "source": [
    "# This Python 3 environment comes with many helpful analytics libraries installed\n",
    "# It is defined by the kaggle/python Docker image: https://github.com/kaggle/docker-python\n",
    "# For example, here's several helpful packages to load\n",
    "\n",
    "import numpy as np # linear algebra\n",
    "import pandas as pd # data processing, CSV file I/O (e.g. pd.read_csv)\n",
    "\n",
    "# Input data files are available in the read-only \"../input/\" directory\n",
    "# For example, running this (by clicking run or pressing Shift+Enter) will list all files under the input directory\n",
    "\n",
    "import os\n",
    "for dirname, _, filenames in os.walk('/kaggle/input'):\n",
    "    for filename in filenames:\n",
    "        print(os.path.join(dirname, filename))\n",
    "\n",
    "        \n",
    "X = pd.read_csv(\"/kaggle/input/house-prices-advanced-regression-techniques/train.csv\",index_col=0)\n",
    "X_test = pd.read_csv(\"/kaggle/input/house-prices-advanced-regression-techniques/test.csv\", index_col=0)\n",
    "\n",
    "# You can write up to 20GB to the current directory (/kaggle/working/) that gets preserved as output when you create a version using \"Save & Run All\" \n",
    "# You can also write temporary files to /kaggle/temp/, but they won't be saved outside of the current session"
   ]
  },
  {
   "cell_type": "code",
   "execution_count": 2,
   "metadata": {
    "_cell_guid": "79c7e3d0-c299-4dcb-8224-4455121ee9b0",
    "_uuid": "d629ff2d2480ee46fbb7e2d37f6b5fab8052498a",
    "execution": {
     "iopub.execute_input": "2020-12-16T08:48:45.051685Z",
     "iopub.status.busy": "2020-12-16T08:48:45.050973Z",
     "iopub.status.idle": "2020-12-16T08:48:46.585961Z",
     "shell.execute_reply": "2020-12-16T08:48:46.586745Z"
    },
    "papermill": {
     "duration": 1.561789,
     "end_time": "2020-12-16T08:48:46.586898",
     "exception": false,
     "start_time": "2020-12-16T08:48:45.025109",
     "status": "completed"
    },
    "tags": []
   },
   "outputs": [
    {
     "name": "stdout",
     "output_type": "stream",
     "text": [
      "(1460, 80)\n",
      "(1459, 79)\n",
      "80\n",
      "233           0\n",
      "47            0\n",
      "61            0\n",
      "60            0\n",
      "59            0\n",
      "             ..\n",
      "137           0\n",
      "136           0\n",
      "135           0\n",
      "134           0\n",
      "MSSubClass    0\n",
      "Length: 271, dtype: int64\n",
      "(2919, 271)\n",
      "(1460, 270)\n",
      "(1459, 270)\n"
     ]
    },
    {
     "name": "stderr",
     "output_type": "stream",
     "text": [
      "/opt/conda/lib/python3.7/site-packages/pandas/core/frame.py:4174: SettingWithCopyWarning: \n",
      "A value is trying to be set on a copy of a slice from a DataFrame\n",
      "\n",
      "See the caveats in the documentation: https://pandas.pydata.org/pandas-docs/stable/user_guide/indexing.html#returning-a-view-versus-a-copy\n",
      "  errors=errors,\n"
     ]
    }
   ],
   "source": [
    "from sklearn.impute import SimpleImputer\n",
    "from sklearn.preprocessing import OneHotEncoder\n",
    "\n",
    "print(X.shape)\n",
    "print(X_test.shape)\n",
    "\n",
    "X_full = pd.concat([X,X_test],axis=0)\n",
    "\n",
    "# print(X_full.shape)\n",
    "\n",
    "# print(X_full.info())\n",
    "\n",
    "n_col = [colname for colname in X_full.columns if X_full[colname].dtype in [\"int64\",\"float64\"]]\n",
    "cate_col = [colname for colname in X_full.columns if X_full[colname].dtype == \"object\"]\n",
    "print(len(cate_col) + len(n_col))\n",
    "\n",
    "imputer = SimpleImputer(strategy=\"mean\")\n",
    "imputer2 = SimpleImputer(strategy=\"most_frequent\")\n",
    "OH = OneHotEncoder(sparse=False,handle_unknown=\"ignore\")\n",
    "\n",
    "# print(X_full.shape)\n",
    "X_full = pd.concat([pd.DataFrame(imputer.fit_transform(X_full[n_col]),index=X_full.index,columns=X_full[n_col].columns),X_full[cate_col]],axis=1)\n",
    "\n",
    "\n",
    "#Delete columns with > 50% NaN values\n",
    "X_full.drop([\"PoolQC\",\"MiscFeature\",\"Alley\",\"Fence\",\"FireplaceQu\"],inplace=True,axis=1)\n",
    "\n",
    "#Get Category columns\n",
    "cate_col = [colname for colname in X_full.columns if X_full[colname].dtype == \"object\"]\n",
    "\n",
    "X_full = pd.concat([pd.DataFrame(imputer2.fit_transform(X_full[cate_col]),index=X_full.index,columns=X_full[cate_col].columns),X_full[n_col]],axis=1)\n",
    "\n",
    "OH_col = pd.DataFrame(OH.fit_transform(X_full[cate_col]),index=X_full.index)\n",
    "\n",
    "X_full = pd.concat([X_full,OH_col],axis=1)\n",
    "\n",
    "X_full.drop(cate_col,inplace=True,axis=1)\n",
    "\n",
    "print(X_full.isnull().sum().sort_values(ascending=False))\n",
    "print(X_full.shape)\n",
    "\n",
    "X_clean = X_full.iloc[:1460]\n",
    "X_test_clean = X_full.iloc[1460:]\n",
    "y = X_clean[\"SalePrice\"]\n",
    "X_clean.drop(\"SalePrice\",axis=1,inplace=True)\n",
    "X_test_clean.drop(\"SalePrice\",axis=1,inplace=True)\n",
    "\n",
    "print(X_clean.shape)\n",
    "print(X_test_clean.shape)\n"
   ]
  },
  {
   "cell_type": "markdown",
   "metadata": {
    "papermill": {
     "duration": 0.006438,
     "end_time": "2020-12-16T08:48:46.601785",
     "exception": false,
     "start_time": "2020-12-16T08:48:46.595347",
     "status": "completed"
    },
    "tags": []
   },
   "source": [
    "XGBRegressor Test"
   ]
  },
  {
   "cell_type": "code",
   "execution_count": 3,
   "metadata": {
    "execution": {
     "iopub.execute_input": "2020-12-16T08:48:46.624503Z",
     "iopub.status.busy": "2020-12-16T08:48:46.623762Z",
     "iopub.status.idle": "2020-12-16T08:48:48.270103Z",
     "shell.execute_reply": "2020-12-16T08:48:48.270974Z"
    },
    "papermill": {
     "duration": 1.66264,
     "end_time": "2020-12-16T08:48:48.271189",
     "exception": false,
     "start_time": "2020-12-16T08:48:46.608549",
     "status": "completed"
    },
    "tags": []
   },
   "outputs": [
    {
     "name": "stdout",
     "output_type": "stream",
     "text": [
      "Mean Absolute Error: 16462.55486140839\n"
     ]
    }
   ],
   "source": [
    "from sklearn.model_selection import train_test_split\n",
    "from xgboost import XGBRegressor\n",
    "from sklearn.metrics import mean_absolute_error\n",
    "\n",
    "X_train, X_valid, y_train, y_valid = train_test_split(X_clean,y,test_size=.2,random_state=1,train_size=.8)\n",
    "\n",
    "my_model_2 = XGBRegressor(n_estimators=500,random_state=0) # Your code here\n",
    "\n",
    "# Fit the model\n",
    "my_model_2.fit(X_train,y_train, early_stopping_rounds=10,eval_set=[(X_valid,y_valid)],verbose=False) # Your code here\n",
    "\n",
    "# Get predictions\n",
    "predictions_2 = my_model_2.predict(X_valid) # Your code here\n",
    "\n",
    "# Calculate MAE\n",
    "mae_2 = mean_absolute_error(predictions_2,y_valid) # Your code here\n",
    "\n",
    "# Uncomment to print MAE\n",
    "print(\"Mean Absolute Error:\" , mae_2)\n",
    "\n",
    "pred_final = my_model_2.predict(X_test_clean)"
   ]
  },
  {
   "cell_type": "code",
   "execution_count": 4,
   "metadata": {
    "execution": {
     "iopub.execute_input": "2020-12-16T08:48:48.298699Z",
     "iopub.status.busy": "2020-12-16T08:48:48.297904Z",
     "iopub.status.idle": "2020-12-16T08:48:48.583048Z",
     "shell.execute_reply": "2020-12-16T08:48:48.582434Z"
    },
    "papermill": {
     "duration": 0.301911,
     "end_time": "2020-12-16T08:48:48.583182",
     "exception": false,
     "start_time": "2020-12-16T08:48:48.281271",
     "status": "completed"
    },
    "tags": []
   },
   "outputs": [
    {
     "name": "stdout",
     "output_type": "stream",
     "text": [
      "Done!!!\n"
     ]
    }
   ],
   "source": [
    "# Save test predictions to file\n",
    "\n",
    "output = pd.DataFrame({'Id': X_test_clean.index,\n",
    "                       'SalePrice': pred_final})\n",
    "output.to_csv('submission.csv', index=False)\n",
    "\n",
    "print(\"Done!!!\")"
   ]
  },
  {
   "cell_type": "code",
   "execution_count": null,
   "metadata": {
    "papermill": {
     "duration": 0.007524,
     "end_time": "2020-12-16T08:48:48.600775",
     "exception": false,
     "start_time": "2020-12-16T08:48:48.593251",
     "status": "completed"
    },
    "tags": []
   },
   "outputs": [],
   "source": []
  }
 ],
 "metadata": {
  "kernelspec": {
   "display_name": "Python 3",
   "language": "python",
   "name": "python3"
  },
  "language_info": {
   "codemirror_mode": {
    "name": "ipython",
    "version": 3
   },
   "file_extension": ".py",
   "mimetype": "text/x-python",
   "name": "python",
   "nbconvert_exporter": "python",
   "pygments_lexer": "ipython3",
   "version": "3.7.6"
  },
  "papermill": {
   "duration": 8.809683,
   "end_time": "2020-12-16T08:48:48.718249",
   "environment_variables": {},
   "exception": null,
   "input_path": "__notebook__.ipynb",
   "output_path": "__notebook__.ipynb",
   "parameters": {},
   "start_time": "2020-12-16T08:48:39.908566",
   "version": "2.1.0"
  }
 },
 "nbformat": 4,
 "nbformat_minor": 4
}
